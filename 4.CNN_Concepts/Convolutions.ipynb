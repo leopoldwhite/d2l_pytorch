{
 "cells": [
  {
   "cell_type": "code",
   "execution_count": 1,
   "metadata": {},
   "outputs": [],
   "source": [
    "import torch\n",
    "from torch import nn\n",
    "from d2l import torch as d2l"
   ]
  },
  {
   "cell_type": "code",
   "execution_count": 2,
   "metadata": {},
   "outputs": [],
   "source": [
    "def corr2d(X,K):\n",
    "    h,w=K.shape\n",
    "    Y=torch.zeros((X.shape[0]-h+1,X.shape[1]-w+1))\n",
    "    for i in range (Y.shape[0]):\n",
    "        for j in range(Y.shape[1]):\n",
    "            Y[i,j]=(X[i:i+h,j:j+w]*K).sum()\n",
    "    return Y"
   ]
  },
  {
   "cell_type": "code",
   "execution_count": 3,
   "metadata": {},
   "outputs": [
    {
     "data": {
      "text/plain": [
       "tensor([[19., 25.],\n",
       "        [37., 43.]])"
      ]
     },
     "execution_count": 3,
     "metadata": {},
     "output_type": "execute_result"
    }
   ],
   "source": [
    "X = torch.tensor([[0.0, 1.0, 2.0], [3.0, 4.0, 5.0], [6.0, 7.0, 8.0]])\n",
    "K = torch.tensor([[0.0, 1.0], [2.0, 3.0]])\n",
    "corr2d(X, K)"
   ]
  },
  {
   "cell_type": "code",
   "execution_count": 4,
   "metadata": {},
   "outputs": [],
   "source": [
    "class Conv2D(nn.Module):\n",
    "    def __init__(self,kernel_size):\n",
    "        super().__init__()\n",
    "        self.weight=nn.Parameter(torch.rand(kernel_size))\n",
    "        self.bias =nn.Parameter(torch.zeros(1))\n",
    "        \n",
    "    def forward(self,x):\n",
    "        return corr2d(x,self.weight)+self.bias"
   ]
  },
  {
   "cell_type": "code",
   "execution_count": 5,
   "metadata": {},
   "outputs": [
    {
     "data": {
      "text/plain": [
       "tensor([[1., 1., 0., 0., 0., 0., 1., 1.],\n",
       "        [1., 1., 0., 0., 0., 0., 1., 1.],\n",
       "        [1., 1., 0., 0., 0., 0., 1., 1.],\n",
       "        [1., 1., 0., 0., 0., 0., 1., 1.],\n",
       "        [1., 1., 0., 0., 0., 0., 1., 1.],\n",
       "        [1., 1., 0., 0., 0., 0., 1., 1.]])"
      ]
     },
     "execution_count": 5,
     "metadata": {},
     "output_type": "execute_result"
    }
   ],
   "source": [
    "X = torch.ones((6, 8))\n",
    "X[:, 2:6] = 0\n",
    "X"
   ]
  },
  {
   "cell_type": "code",
   "execution_count": 6,
   "metadata": {},
   "outputs": [],
   "source": [
    "K = torch.tensor([[1.0, -1.0]])"
   ]
  },
  {
   "cell_type": "code",
   "execution_count": 7,
   "metadata": {},
   "outputs": [
    {
     "data": {
      "text/plain": [
       "tensor([[ 0.,  1.,  0.,  0.,  0., -1.,  0.],\n",
       "        [ 0.,  1.,  0.,  0.,  0., -1.,  0.],\n",
       "        [ 0.,  1.,  0.,  0.,  0., -1.,  0.],\n",
       "        [ 0.,  1.,  0.,  0.,  0., -1.,  0.],\n",
       "        [ 0.,  1.,  0.,  0.,  0., -1.,  0.],\n",
       "        [ 0.,  1.,  0.,  0.,  0., -1.,  0.]])"
      ]
     },
     "execution_count": 7,
     "metadata": {},
     "output_type": "execute_result"
    }
   ],
   "source": [
    "Y=corr2d(X,K)\n",
    "Y"
   ]
  },
  {
   "cell_type": "code",
   "execution_count": 12,
   "metadata": {},
   "outputs": [
    {
     "name": "stdout",
     "output_type": "stream",
     "text": [
      "epoch 2, loss 10.477\n",
      "epoch 4, loss 3.238\n",
      "epoch 6, loss 1.150\n",
      "epoch 8, loss 0.441\n",
      "epoch 10, loss 0.176\n",
      "epoch 12, loss 0.071\n",
      "epoch 14, loss 0.029\n",
      "epoch 16, loss 0.012\n",
      "epoch 18, loss 0.005\n",
      "epoch 20, loss 0.002\n",
      "epoch 22, loss 0.001\n",
      "epoch 24, loss 0.000\n",
      "epoch 26, loss 0.000\n",
      "epoch 28, loss 0.000\n",
      "epoch 30, loss 0.000\n",
      "epoch 32, loss 0.000\n",
      "epoch 34, loss 0.000\n",
      "epoch 36, loss 0.000\n",
      "epoch 38, loss 0.000\n",
      "epoch 40, loss 0.000\n",
      "epoch 42, loss 0.000\n",
      "epoch 44, loss 0.000\n",
      "epoch 46, loss 0.000\n",
      "epoch 48, loss 0.000\n",
      "epoch 50, loss 0.000\n",
      "epoch 52, loss 0.000\n",
      "epoch 54, loss 0.000\n",
      "epoch 56, loss 0.000\n",
      "epoch 58, loss 0.000\n",
      "epoch 60, loss 0.000\n",
      "epoch 62, loss 0.000\n",
      "epoch 64, loss 0.000\n",
      "epoch 66, loss 0.000\n",
      "epoch 68, loss 0.000\n",
      "epoch 70, loss 0.000\n",
      "epoch 72, loss 0.000\n",
      "epoch 74, loss 0.000\n",
      "epoch 76, loss 0.000\n",
      "epoch 78, loss 0.000\n",
      "epoch 80, loss 0.000\n",
      "epoch 82, loss 0.000\n",
      "epoch 84, loss 0.000\n",
      "epoch 86, loss 0.000\n",
      "epoch 88, loss 0.000\n",
      "epoch 90, loss 0.000\n",
      "epoch 92, loss 0.000\n",
      "epoch 94, loss 0.000\n",
      "epoch 96, loss 0.000\n",
      "epoch 98, loss 0.000\n",
      "epoch 100, loss 0.000\n",
      "epoch 102, loss 0.000\n",
      "epoch 104, loss 0.000\n",
      "epoch 106, loss 0.000\n",
      "epoch 108, loss 0.000\n",
      "epoch 110, loss 0.000\n",
      "epoch 112, loss 0.000\n",
      "epoch 114, loss 0.000\n",
      "epoch 116, loss 0.000\n",
      "epoch 118, loss 0.000\n",
      "epoch 120, loss 0.000\n",
      "epoch 122, loss 0.000\n",
      "epoch 124, loss 0.000\n",
      "epoch 126, loss 0.000\n",
      "epoch 128, loss 0.000\n",
      "epoch 130, loss 0.000\n",
      "epoch 132, loss 0.000\n",
      "epoch 134, loss 0.000\n",
      "epoch 136, loss 0.000\n",
      "epoch 138, loss 0.000\n",
      "epoch 140, loss 0.000\n",
      "epoch 142, loss 0.000\n",
      "epoch 144, loss 0.000\n",
      "epoch 146, loss 0.000\n",
      "epoch 148, loss 0.000\n",
      "epoch 150, loss 0.000\n",
      "epoch 152, loss 0.000\n",
      "epoch 154, loss 0.000\n",
      "epoch 156, loss 0.000\n",
      "epoch 158, loss 0.000\n",
      "epoch 160, loss 0.000\n",
      "epoch 162, loss 0.000\n",
      "epoch 164, loss 0.000\n",
      "epoch 166, loss 0.000\n",
      "epoch 168, loss 0.000\n",
      "epoch 170, loss 0.000\n",
      "epoch 172, loss 0.000\n",
      "epoch 174, loss 0.000\n",
      "epoch 176, loss 0.000\n",
      "epoch 178, loss 0.000\n",
      "epoch 180, loss 0.000\n",
      "epoch 182, loss 0.000\n",
      "epoch 184, loss 0.000\n",
      "epoch 186, loss 0.000\n",
      "epoch 188, loss 0.000\n",
      "epoch 190, loss 0.000\n",
      "epoch 192, loss 0.000\n",
      "epoch 194, loss 0.000\n",
      "epoch 196, loss 0.000\n",
      "epoch 198, loss 0.000\n",
      "epoch 200, loss 0.000\n"
     ]
    }
   ],
   "source": [
    "conv2d=nn.Conv2d(1,1,kernel_size=(1,2),bias=False)\n",
    "\n",
    "X=X.reshape((1,1,6,8))\n",
    "Y=Y.reshape((1,1,6,7))\n",
    "lr=3e-2\n",
    "\n",
    "for i in range(200):\n",
    "    Y_hat=conv2d(X)\n",
    "    l=(Y_hat-Y)**2\n",
    "    conv2d.zero_grad()\n",
    "    l.sum().backward()\n",
    "    conv2d.weight.data[:]-=lr*conv2d.weight.grad\n",
    "    if(i+1)%2==0:\n",
    "        print(f'epoch {i + 1}, loss {l.sum():.3f}')"
   ]
  },
  {
   "cell_type": "code",
   "execution_count": 13,
   "metadata": {},
   "outputs": [
    {
     "data": {
      "text/plain": [
       "tensor([[ 1.0000, -1.0000]])"
      ]
     },
     "execution_count": 13,
     "metadata": {},
     "output_type": "execute_result"
    }
   ],
   "source": [
    "conv2d.weight.data.reshape((1, 2))"
   ]
  },
  {
   "cell_type": "code",
   "execution_count": null,
   "metadata": {},
   "outputs": [],
   "source": []
  },
  {
   "cell_type": "markdown",
   "metadata": {},
   "source": []
  }
 ],
 "metadata": {
  "interpreter": {
   "hash": "4d639d2badfb9d51a376c06d40fa328498ee9c8872b456bfec37f6865859d242"
  },
  "kernelspec": {
   "display_name": "Python 3.7.11 64-bit ('pytorch_env': conda)",
   "language": "python",
   "name": "python3"
  },
  "language_info": {
   "codemirror_mode": {
    "name": "ipython",
    "version": 3
   },
   "file_extension": ".py",
   "mimetype": "text/x-python",
   "name": "python",
   "nbconvert_exporter": "python",
   "pygments_lexer": "ipython3",
   "version": "3.7.11"
  },
  "orig_nbformat": 4
 },
 "nbformat": 4,
 "nbformat_minor": 2
}
